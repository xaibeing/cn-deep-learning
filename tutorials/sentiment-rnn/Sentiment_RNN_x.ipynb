{
 "cells": [
  {
   "cell_type": "markdown",
   "metadata": {},
   "source": [
    "# <makedowncell>\n",
    "# # Sentiment Analysis with an RNN\n",
    "# \n",
    "# In this notebook, you'll implement a recurrent neural network that performs sentiment analysis. Using an RNN rather than a feedfoward network is more accurate since we can include information about the *sequence* of words. Here we'll use a dataset of movie reviews, accompanied by labels.\n",
    "# \n",
    "# The architecture for this network is shown below.\n",
    "# \n",
    "# <img src=\"assets/network_diagram.png\" width=400px>\n",
    "# \n",
    "# Here, we'll pass in words to an embedding layer. We need an embedding layer because we have tens of thousands of words, so we'll need a more efficient representation for our input data than one-hot encoded vectors. You should have seen this before from the word2vec lesson. You can actually train up an embedding with word2vec and use it here. But it's good enough to just have an embedding layer and let the network learn the embedding table on it's own.\n",
    "# \n",
    "# From the embedding layer, the new representations will be passed to LSTM cells. These will add recurrent connections to the network so we can include information about the sequence of words in the data. Finally, the LSTM cells will go to a sigmoid output layer here. We're using the sigmoid because we're trying to predict if this text has positive or negative sentiment. The output layer will just be a single unit then, with a sigmoid activation function.\n",
    "# \n",
    "# We don't care about the sigmoid outputs except for the very last one, we can ignore the rest. We'll calculate the cost from the output of the last step and the training label."
   ]
  },
  {
   "cell_type": "code",
   "execution_count": 1,
   "metadata": {},
   "outputs": [],
   "source": [
    "import numpy as np\n",
    "import tensorflow as tf"
   ]
  },
  {
   "cell_type": "code",
   "execution_count": 2,
   "metadata": {},
   "outputs": [
    {
     "data": {
      "text/plain": [
       "'bromwell high is a cartoon comedy . it ran at the same time as some other programs about school life  such as  teachers  . my   years in the teaching profession lead me to believe that bromwell high  s satire is much closer to reality than is  teachers  . the scramble to survive financially  the ins'"
      ]
     },
     "execution_count": 2,
     "metadata": {},
     "output_type": "execute_result"
    }
   ],
   "source": [
    "with open('../sentiment-network/reviews.txt', 'r') as f:\n",
    "    reviews = f.read()\n",
    "with open('../sentiment-network/labels.txt', 'r') as f:\n",
    "    labels = f.read()\n",
    "\n",
    "reviews[:300]\n",
    "\n",
    "\n",
    "# ## Data preprocessing\n",
    "# \n",
    "# The first step when building a neural network model is getting your data into the proper form to feed into the network. Since we're using embedding layers, we'll need to encode each word with an integer. We'll also want to clean it up a bit.\n",
    "# \n",
    "# You can see an example of the reviews data above. We'll want to get rid of those periods. Also, you might notice that the reviews are delimited with newlines `\\n`. To deal with those, I'm going to split the text into each review using `\\n` as the delimiter. Then I can combined all the reviews back together into one big string.\n",
    "# \n",
    "# First, let's remove all punctuation. Then get all the text without the newlines and split it into individual words."
   ]
  },
  {
   "cell_type": "code",
   "execution_count": 3,
   "metadata": {},
   "outputs": [
    {
     "name": "stdout",
     "output_type": "stream",
     "text": [
      "['bromwell high is a cartoon comedy  it ran at the same time as some other programs about school life  such as  teachers   my   years in the teaching profession lead me to believe that bromwell high  s satire is much closer to reality than is  teachers   the scramble to survive financially  the insightful students who can see right through their pathetic teachers  pomp  the pettiness of the whole situation  all remind me of the schools i knew and their students  when i saw the episode in which a student repeatedly tried to burn down the school  i immediately recalled          at           high  a classic line inspector i  m here to sack one of your teachers  student welcome to bromwell high  i expect that many adults of my age think that bromwell high is far fetched  what a pity that it isn  t   ', 'story of a man who has unnatural feelings for a pig  starts out with a opening scene that is a terrific example of absurd comedy  a formal orchestra audience is turned into an insane  violent mob by the crazy chantings of it  s singers  unfortunately it stays absurd the whole time with no general narrative eventually making it just too off putting  even those from the era should be turned off  the cryptic dialogue would make shakespeare seem easy to a third grader  on a technical level it  s better than you might think with some good cinematography by future great vilmos zsigmond  future stars sally kirkland and frederic forrest can be seen briefly   ', 'homelessness  or houselessness as george carlin stated  has been an issue for years but never a plan to help those on the street that were once considered human who did everything from going to school  work  or vote for the matter  most people think of the homeless as just a lost cause while worrying about things such as racism  the war on iraq  pressuring kids to succeed  technology  the elections  inflation  or worrying if they  ll be next to end up on the streets   br    br   but what if you were given a bet to live on the streets for a month without the luxuries you once had from a home  the entertainment sets  a bathroom  pictures on the wall  a computer  and everything you once treasure to see what it  s like to be homeless  that is goddard bolt  s lesson   br    br   mel brooks  who directs  who stars as bolt plays a rich man who has everything in the world until deciding to make a bet with a sissy rival  jeffery tambor  to see if he can live in the streets for thirty days without the luxuries if bolt succeeds  he can do what he wants with a future project of making more buildings  the bet  s on where bolt is thrown on the street with a bracelet on his leg to monitor his every move where he can  t step off the sidewalk  he  s given the nickname pepto by a vagrant after it  s written on his forehead where bolt meets other characters including a woman by the name of molly  lesley ann warren  an ex  dancer who got divorce before losing her home  and her pals sailor  howard morris  and fumes  teddy wilson  who are already used to the streets  they  re survivors  bolt isn  t  he  s not used to reaching mutual agreements like he once did when being rich where it  s fight or flight  kill or be killed   br    br   while the love connection between molly and bolt wasn  t necessary to plot  i found  life stinks  to be one of mel brooks  observant films where prior to being a comedy  it shows a tender side compared to his slapstick work such as blazing saddles  young frankenstein  or spaceballs for the matter  to show what it  s like having something valuable before losing it the next day or on the other hand making a stupid bet like all rich people do when they don  t know what to do with their money  maybe they should give it to the homeless instead of using it like monopoly money   br    br   or maybe this film will inspire you to help others   ']\n"
     ]
    }
   ],
   "source": [
    "from string import punctuation\n",
    "all_text = ''.join([c for c in reviews if c not in punctuation])\n",
    "reviews = all_text.split('\\n')\n",
    "\n",
    "# list of string, one item one review\n",
    "print(reviews[:3])\n",
    "\n",
    "# one big string of all words\n",
    "all_text = ' '.join(reviews)\n",
    "words = all_text.split()"
   ]
  },
  {
   "cell_type": "code",
   "execution_count": 4,
   "metadata": {},
   "outputs": [
    {
     "name": "stdout",
     "output_type": "stream",
     "text": [
      "bromwell high is a cartoon comedy  it ran at the same time as some other programs about school life  such as  teachers   my   years in the teaching profession lead me to believe that bromwell high  s satire is much closer to reality than is  teachers   the scramble to survive financially  the insightful students who can see right through their pathetic teachers  pomp  the pettiness of the whole situation  all remind me of the schools i knew and their students  when i saw the episode in which a student repeatedly tried to burn down the school  i immediately recalled          at           high  a classic line inspector i  m here to sack one of your teachers  student welcome to bromwell high  i expect that many adults of my age think that bromwell high is far fetched  what a pity that it isn  t    story of a man who has unnatural feelings for a pig  starts out with a opening scene that is a terrific example of absurd comedy  a formal orchestra audience is turned into an insane  violent mob by the crazy chantings of it  s singers  unfortunately it stays absurd the whole time with no general narrative eventually making it just too off putting  even those from the era should be turned off  the cryptic dialogue would make shakespeare seem easy to a third grader  on a technical level it  s better than you might think with some good cinematography by future great vilmos zsigmond  future stars sally kirkland and frederic forrest can be seen briefly    homelessness  or houselessness as george carlin stated  has been an issue for years but never a plan to help those on the street that were once considered human who did everything from going to school  work  or vote for the matter  most people think of the homeless as just a lost cause while worrying about things such as racism  the war on iraq  pressuring kids to succeed  technology  the elections  inflation  or worrying if they  ll be next to end up on the streets   br    br   but what if you were given a bet to live on the st\n",
      "['bromwell', 'high', 'is', 'a', 'cartoon', 'comedy', 'it', 'ran', 'at', 'the', 'same', 'time', 'as', 'some', 'other', 'programs', 'about', 'school', 'life', 'such', 'as', 'teachers', 'my', 'years', 'in', 'the', 'teaching', 'profession', 'lead', 'me', 'to', 'believe', 'that', 'bromwell', 'high', 's', 'satire', 'is', 'much', 'closer', 'to', 'reality', 'than', 'is', 'teachers', 'the', 'scramble', 'to', 'survive', 'financially', 'the', 'insightful', 'students', 'who', 'can', 'see', 'right', 'through', 'their', 'pathetic', 'teachers', 'pomp', 'the', 'pettiness', 'of', 'the', 'whole', 'situation', 'all', 'remind', 'me', 'of', 'the', 'schools', 'i', 'knew', 'and', 'their', 'students', 'when', 'i', 'saw', 'the', 'episode', 'in', 'which', 'a', 'student', 'repeatedly', 'tried', 'to', 'burn', 'down', 'the', 'school', 'i', 'immediately', 'recalled', 'at', 'high']\n",
      "6020196\n"
     ]
    }
   ],
   "source": [
    "print(all_text[:2000])\n",
    "\n",
    "# list of all words, one item one word. len=6020196\n",
    "print(words[:100])\n",
    "print(len(words))"
   ]
  },
  {
   "cell_type": "code",
   "execution_count": 5,
   "metadata": {},
   "outputs": [
    {
     "name": "stdout",
     "output_type": "stream",
     "text": [
      "74072\n",
      "[[68529, 5510, 18022, 21997, 28466, 58796, 60701, 32113, 30822, 475, 42856, 10834, 26453, 22145, 13933, 35650, 57687, 4209, 4292, 60115, 26453, 18611, 64775, 43320, 11159, 475, 44869, 23619, 38146, 7031, 3484, 17667, 23693, 68529, 5510, 59484, 29246, 18022, 12899, 14878, 3484, 43136, 37605, 18022, 18611, 475, 7172, 3484, 73693, 403, 475, 42157, 57230, 34202, 57663, 25044, 59721, 40620, 66946, 28205, 18611, 63534, 475, 58852, 41537, 475, 39908, 60798, 42064, 33508, 7031, 41537, 475, 7524, 69997, 71159, 50273, 66946, 57230, 20193, 69997, 45854, 475, 24869, 11159, 12627, 21997, 17453, 44287, 50518, 3484, 45430, 41709, 475, 4209, 69997, 38771, 72309, 30822, 5510, 21997, 5381, 58747, 55177, 69997, 49841, 13042, 3484, 11812, 57244, 41537, 9354, 18611, 17453, 51146, 3484, 68529, 5510, 69997, 37448, 23693, 26501, 54364, 41537, 64775, 40038, 66356, 23693, 68529, 5510, 18022, 11478, 17950, 62882, 21997, 5927, 23693, 60701, 36178, 46316], [63145, 41537, 21997, 35484, 34202, 9367, 4600, 69172, 23843, 21997, 64290, 13009, 47171, 52935, 21997, 29503, 46465, 23693, 18022, 21997, 3731, 30155, 41537, 11277, 58796, 21997, 49485, 17196, 56933, 18022, 68619, 49368, 53603, 26618, 19865, 64215, 74051, 475, 2467, 3443, 41537, 60701, 59484, 56840, 62422, 60701, 59132, 11277, 475, 39908, 10834, 52935, 53989, 2533, 70413, 51460, 56878, 60701, 8972, 65279, 51366, 66111, 13575, 62880, 37707, 475, 68498, 49165, 1238, 68619, 51366, 475, 49607, 32043, 40861, 53694, 10042, 4201, 49869, 3484, 21997, 73629, 6835, 17454, 21997, 30347, 49120, 60701, 59484, 18461, 37605, 18137, 34432, 66356, 52935, 22145, 60719, 50661, 74051, 40528, 53615, 20633, 15500, 40528, 54237, 29925, 27990, 50273, 422, 11076, 57663, 1238, 42466, 37422]]\n",
      "25001\n"
     ]
    }
   ],
   "source": [
    "# Create your dictionary that maps vocab words to integers here\n",
    "# word set, len=74072\n",
    "vocab_set = set(words)\n",
    "print(len(vocab_set))\n",
    "\n",
    "# dict, vocab to int, int value starts at 1, leave 0 for padding\n",
    "vocab_to_int = {word : i+1 for i, word in enumerate(vocab_set)}\n",
    "\n",
    "# Convert the reviews to integers, same shape as reviews list, but with integers\n",
    "# review list, one item one review, but int represent word\n",
    "reviews_ints = []\n",
    "for review in reviews:\n",
    "    words_in_one_review = review.split()\n",
    "    one_review_int = []\n",
    "    for word in words_in_one_review:\n",
    "        word_int = vocab_to_int[word]\n",
    "        one_review_int.append(word_int)\n",
    "    reviews_ints.append(one_review_int)\n",
    "    \n",
    "print(reviews_ints[0:2])\n",
    "print(len(reviews_ints))"
   ]
  },
  {
   "cell_type": "code",
   "execution_count": 6,
   "metadata": {},
   "outputs": [
    {
     "data": {
      "text/plain": [
       "25001"
      ]
     },
     "execution_count": 6,
     "metadata": {},
     "output_type": "execute_result"
    }
   ],
   "source": [
    "# split labels\n",
    "labels = labels.split('\\n')\n",
    "len(labels)"
   ]
  },
  {
   "cell_type": "code",
   "execution_count": 7,
   "metadata": {},
   "outputs": [
    {
     "name": "stdout",
     "output_type": "stream",
     "text": [
      "Zero-length reviews: 1\n",
      "Maximum review length: 2514\n"
     ]
    }
   ],
   "source": [
    "from collections import Counter\n",
    "review_lens = Counter([len(x) for x in reviews_ints])\n",
    "print(\"Zero-length reviews: {}\".format(review_lens[0]))\n",
    "print(\"Maximum review length: {}\".format(max(review_lens)))"
   ]
  },
  {
   "cell_type": "code",
   "execution_count": 8,
   "metadata": {},
   "outputs": [
    {
     "name": "stdout",
     "output_type": "stream",
     "text": [
      "25000\n",
      "25000\n",
      "25000\n"
     ]
    }
   ],
   "source": [
    "# Filter out that review with 0 length\n",
    "for i, e in enumerate(reviews_ints):\n",
    "    if(len(e) == 0):\n",
    "        print(i)\n",
    "        reviews_ints.remove(e)\n",
    "        del labels[i]\n",
    "        break\n",
    "\n",
    "# make sure reviews and labels still the same size\n",
    "print(len(reviews_ints))\n",
    "print(len(labels))"
   ]
  },
  {
   "cell_type": "code",
   "execution_count": 9,
   "metadata": {},
   "outputs": [
    {
     "name": "stdout",
     "output_type": "stream",
     "text": [
      "[[     0.      0.      0.      0.      0.      0.      0.      0.      0.\n",
      "       0.      0.      0.      0.      0.      0.      0.      0.      0.\n",
      "       0.      0.      0.      0.      0.      0.      0.      0.      0.\n",
      "       0.      0.      0.      0.      0.      0.      0.      0.      0.\n",
      "       0.      0.      0.      0.      0.      0.      0.      0.      0.\n",
      "       0.      0.      0.      0.      0.      0.      0.      0.      0.\n",
      "       0.      0.      0.      0.      0.      0.  68529.   5510.  18022.\n",
      "   21997.  28466.  58796.  60701.  32113.  30822.    475.  42856.  10834.\n",
      "   26453.  22145.  13933.  35650.  57687.   4209.   4292.  60115.  26453.\n",
      "   18611.  64775.  43320.  11159.    475.  44869.  23619.  38146.   7031.\n",
      "    3484.  17667.  23693.  68529.   5510.  59484.  29246.  18022.  12899.\n",
      "   14878.]\n",
      " [     0.      0.      0.      0.      0.      0.      0.      0.      0.\n",
      "       0.      0.      0.      0.      0.      0.      0.      0.      0.\n",
      "       0.      0.      0.      0.      0.      0.      0.      0.      0.\n",
      "       0.      0.      0.      0.      0.      0.      0.      0.      0.\n",
      "       0.      0.      0.      0.      0.      0.      0.      0.      0.\n",
      "       0.      0.      0.      0.      0.      0.      0.      0.      0.\n",
      "       0.      0.      0.      0.      0.      0.      0.      0.      0.\n",
      "       0.      0.      0.      0.      0.      0.      0.      0.      0.\n",
      "       0.      0.      0.      0.      0.      0.      0.      0.      0.\n",
      "       0.      0.      0.      0.      0.  63145.  41537.  21997.  35484.\n",
      "   34202.   9367.   4600.  69172.  23843.  21997.  64290.  13009.  47171.\n",
      "   52935.]\n",
      " [ 29156.  30378.  44599.  26453.  19600.  72077.  58306.   9367.   2696.\n",
      "   53603.  19944.  23843.  43320.  41422.  28513.  21997.  22161.   3484.\n",
      "   34089.  62880.  17454.    475.  30789.  23693.  43706.  73856.  29379.\n",
      "   20873.  34202.  74022.  18693.  37707.  47389.   3484.   4209.  18254.\n",
      "   30378.  33119.  23843.    475.  69173.  45625.  21751.  66356.  41537.\n",
      "     475.   5296.  26453.   8972.  21997.  45594.  10471.  68865.  59847.\n",
      "   57687.  23130.  60115.  26453.  26630.    475.  73921.  17454.  12031.\n",
      "    2910.  67483.   3484.  58232.   5107.    475.  63177.  56477.  30378.\n",
      "   59847.  33803.  57475.  56018.   1238.  33613.   3484.  60180.  13395.\n",
      "   17454.    475.  63099.  24052.  24052.  41422.  62882.  33803.  18137.\n",
      "   43706.  45715.  21997.  69552.   3484.  36225.  17454.    475.  63099.\n",
      "   23843.]\n",
      " [ 44576.  13009.  26453.  21997.  72337.  27634.  26017.   4538.  18022.\n",
      "   34325.  13395.  52935.  18476.  45370.  60115.  51474.   3484.  36348.\n",
      "   59395.  44516.  47905.  50428.  25747.  34202.  18022.  47625.  61373.\n",
      "   21997.  41057.  41537.  20767.  59484.   3484.  70754.  33558.  11159.\n",
      "   67749.  41537.  60701.   7972.  45154.   3484.    475.  13708.  26453.\n",
      "   21997.  71992.  45271.  17454.  17797.  18022.  47905.  55211.  44473.\n",
      "   72348.  51702.  36880.  49010.    475.  26017.  47035.  25713.  51366.\n",
      "   26453.  39868.  41422.  16074.  44381.    475.   4538.  18022.  24521.\n",
      "   12367.  74051.    475.  17533.  63600.  59083.  67649.  10778.  70754.\n",
      "   30239.  36433.  59484.  67603.  32137.  47632.   3992.  11427.  58418.\n",
      "   34202.  73078.    475.  74010.  62856.  47171.  52935.   3387.  18288.\n",
      "   57475.]\n",
      " [     0.      0.      0.      0.      0.      0.      0.      0.      0.\n",
      "       0.      0.      0.      0.      0.      0.      0.      0.      0.\n",
      "       0.      0.      0.      0.      0.      0.      0.      0.      0.\n",
      "       0.      0.      0.      0.      0.      0.      0.      0.      0.\n",
      "       0.      0.      0.      0.      0.      0.      0.      0.      0.\n",
      "       0.      0.      0.      0.      0.  36277.  33734.   2461.  74051.\n",
      "   63474.  27591.  56351.  37487.  46431.  72426.  45898.  69997.  43515.\n",
      "    1986.  42466.  50273.  67663.  50521.  11159.  37075.   6352.  46914.\n",
      "   23651.   3484.  67772.    475.  47918.  17454.  65538.  18022.  21997.\n",
      "    5381.  26453.  60719.  26453.  33643.  11159.  31487.  62144.    475.\n",
      "   18358.  17454.  45867.  18022.  45271.    268.  38444.   7972.  67977.\n",
      "   41537.]\n",
      " [     0.      0.      0.      0.      0.      0.      0.      0.      0.\n",
      "       0.      0.      0.      0.      0.      0.      0.      0.      0.\n",
      "       0.      0.      0.      0.      0.      0.      0.      0.      0.\n",
      "       0.      0.      0.      0.      0.      0.      0.      0.      0.\n",
      "       0.      0.      0.      0.      0.      0.      0.      0.      0.\n",
      "       0.      0.      0.      0.      0.      0.      0.      0.      0.\n",
      "   43636.   3593.   9312.  30656.  69997.  15142.  46316.  57346.  64775.\n",
      "   55552.  17454.  30822.   9169.  67292.  17454.    475.  32440.  41537.\n",
      "     475.  31308.  52638.  43636.  65741.  14640.   3484.  15453.  41537.\n",
      "   16661.  20193.   9396.   7045.    475.  11375.  52935.  36880.  31308.\n",
      "   35484.  13575.    475.  71473.  50521.  33323.  45207.  26453.   7972.\n",
      "   45457.]\n",
      " [     0.      0.      0.      0.      0.      0.      0.      0.      0.\n",
      "       0.      0.      0.      0.      0.      0.      0.      0.      0.\n",
      "       0.      0.      0.      0.      0.      0.      0.      0.      0.\n",
      "       0.      0.      0.      0.      0.      0.      0.      0.      0.\n",
      "       0.      0.      0.      0.      0.      0.      0.      0.      0.\n",
      "       0.      0.      0.      0.      0.      0.      0.      0.      0.\n",
      "       0.      0.      0.      0.      0.      0.      0.      0.      0.\n",
      "       0.      0.      0.      0.      0.      0.      0.      0.      0.\n",
      "       0.      0.      0.      0.  43636.  18022.  12008.    475.  45625.\n",
      "   69281.   3593.  51404.    475.  73979.  58731.   4462.  66142.  65859.\n",
      "   60701.  31608.  23818.  50312.  21997.   5043.  41255.  41537.  29156.\n",
      "   40596.]\n",
      " [     0.      0.      0.      0.      0.      0.      0.      0.      0.\n",
      "       0.      0.      0.      0.      0.      0.      0.      0.      0.\n",
      "       0.      0.      0.      0.      0.      0.      0.      0.      0.\n",
      "       0.      0.      0.      0.      0.      0.      0.      0.      0.\n",
      "       0.      0.      0.      0.      0.      0.      0.      0.      0.\n",
      "       0.      0.  40782.  18124.  69997.  34603.  43636.  18022.  70707.\n",
      "    3484.   1238.  53603.   3048.   3593.  41422.  19073.  57475.  49165.\n",
      "   43515.  22329.  47171.  10384.  30822.    475.  51649.  62096.  21751.\n",
      "   28823.  16981.  66946.  23092.  47171.  50273.  23818.  17865.  59786.\n",
      "     475.  46465.  26635.  50273.  48485.  39090.  29181.  31382.  43636.\n",
      "   63145.  18022.  65279.  45845.   3484.  17865.    475.  12487.  41537.\n",
      "   21997.]\n",
      " [     0.      0.      0.      0.      0.      0.      0.      0.      0.\n",
      "       0.      0.      0.      0.      0.      0.      0.      0.      0.\n",
      "       0.      0.      0.      0.      0.      0.      0.      0.      0.\n",
      "       0.      0.      0.      0.      0.      0.      0.      0.      0.\n",
      "       0.      0.      0.      0.      0.      0.      0.      0.      0.\n",
      "       0.      0.      0.      0.      0.      0.      0.      0.      0.\n",
      "       0.      0.      0.      0.      0.      0.      0.      0.      0.\n",
      "       0.      0.      0.      0.      0.      0.      0.      0.      0.\n",
      "       0.      0.      0.      0.      0.      0.      0.  43636.  18022.\n",
      "   23818.    475.  28522.   9316.  73979.   3593.  60701.  29181.  12899.\n",
      "   65213.  50285.  37605.  45625.  41537.  70754.  50301.  50273.  63450.\n",
      "   63830.]\n",
      " [ 20193.  69997.  29181.  31005.  64775.  70475.  51953.   7031.  26337.\n",
      "    3484.    475.  48402.   3484.  25044.  43176.  60701.  29181.  57244.\n",
      "   41537.  26501.  50301.  69997.  56532.  52935.  64775.  70475.  41422.\n",
      "   43636.  29181.    475.  33802.  57244.  11015.  48836.  47171.  41537.\n",
      "   63653.   2566.  69997.  63830.  28513.  42466.  43176.  12636.   8972.\n",
      "   59943.  50273.  69997.  28823.  43515.  13334.  47171.    475.  59989.\n",
      "   41537.  64775.   4292.  14391.  60701.  62882.  21997.  28627.  17462.\n",
      "   50273.  14448.  51316.   7866.  41537.  59484.  40645.  50273.  25332.\n",
      "   22184.  17168.  16265.  18022.  57244.  41537.  64775.  30270.  58052.\n",
      "   41422.  43176.  18022.  74051.  11478.    475.  40710.   7866.  41537.\n",
      "   62816.  41537.  70754.  38030.  11159.    475.  58616.  23646.  41537.\n",
      "   34242.]]\n",
      "(25000, 200)\n"
     ]
    }
   ],
   "source": [
    "# truncate review to the limitation \"seq_len\"\n",
    "# left pad \"0\" to reviews whose words less than \"seq_len\"\n",
    "\n",
    "seq_len = 200\n",
    "# np array 2d, shape=(num_reviews, seq_len), the reviews are truncated to seq_len\n",
    "features = np.zeros(shape=(len(reviews_ints), seq_len))\n",
    "for i, e in enumerate(reviews_ints):\n",
    "#    e = np.asarray(e)\n",
    "#    print(i, e[0:3])\n",
    "    if(len(e) >= seq_len):\n",
    "        features[i,:] = e[0:seq_len]\n",
    "    else:\n",
    "        features[i,seq_len-len(e):] = e\n",
    "        \n",
    "print(features[:10,:100])\n",
    "print(features.shape)"
   ]
  },
  {
   "cell_type": "code",
   "execution_count": 10,
   "metadata": {},
   "outputs": [
    {
     "data": {
      "text/plain": [
       "array([1, 0, 1, 0, 1, 0, 1, 0, 1, 0])"
      ]
     },
     "execution_count": 10,
     "metadata": {},
     "output_type": "execute_result"
    }
   ],
   "source": [
    "# construct labels array with 0,1\n",
    "dict_label = {'positive':1, 'negative':0}\n",
    "labels_int = np.asarray([dict_label[word] for word in labels])\n",
    "labels_int[:10]"
   ]
  },
  {
   "cell_type": "code",
   "execution_count": 11,
   "metadata": {},
   "outputs": [
    {
     "name": "stdout",
     "output_type": "stream",
     "text": [
      "\t\t\tFeature Shapes:\n",
      "Train set: \t\t(20000, 200) \n",
      "Validation set: \t(2500, 200) \n",
      "Test set: \t\t(2500, 200)\n",
      "\t\t\tlabels\n",
      "Train set: \t\t(20000,) \n",
      "Validation set: \t(2500,) \n",
      "Test set: \t\t(2500,)\n"
     ]
    }
   ],
   "source": [
    "# split data set into train, valid, test set\n",
    "\n",
    "split_frac = 0.8\n",
    "\n",
    "train_end_index = int(len(features) * 0.8)\n",
    "train_x, val_x = features[: train_end_index, :], features[train_end_index :, :]\n",
    "train_y, val_y = labels_int[: train_end_index], labels_int[train_end_index :]\n",
    "\n",
    "valid_end_index = int(len(features) * 0.8) + int(len(val_x) * 0.5)\n",
    "val_x, test_x = features[train_end_index : valid_end_index, :], features[valid_end_index :, :]\n",
    "val_y, test_y = labels_int[train_end_index : valid_end_index], labels_int[valid_end_index :]\n",
    "\n",
    "print(\"\\t\\t\\tFeature Shapes:\")\n",
    "print(\"Train set: \\t\\t{}\".format(train_x.shape), \n",
    "      \"\\nValidation set: \\t{}\".format(val_x.shape),\n",
    "      \"\\nTest set: \\t\\t{}\".format(test_x.shape))\n",
    "print(\"\\t\\t\\tlabels\")\n",
    "print(\"Train set: \\t\\t{}\".format(train_y.shape), \n",
    "      \"\\nValidation set: \\t{}\".format(val_y.shape),\n",
    "      \"\\nTest set: \\t\\t{}\".format(test_y.shape))"
   ]
  },
  {
   "cell_type": "code",
   "execution_count": 35,
   "metadata": {},
   "outputs": [],
   "source": [
    "# parameters\n",
    "lstm_size = 256\n",
    "lstm_layers = 1\n",
    "dropout_rate = 0.5\n",
    "batch_size = 500\n",
    "learning_rate = 0.0005\n",
    "epochs = 3\n",
    "\n",
    "# vocab size\n",
    "n_words = len(vocab_to_int)\n",
    "# Size of the embedding vectors (number of units in the embedding layer)\n",
    "embed_size = 300 "
   ]
  },
  {
   "cell_type": "code",
   "execution_count": 36,
   "metadata": {},
   "outputs": [],
   "source": [
    "from keras.layers.embeddings import Embedding\n",
    "from keras.models import Sequential\n",
    "from keras.layers.recurrent import LSTM\n",
    "from keras.layers import Dense, Dropout\n",
    "\n",
    "# model\n",
    "model = Sequential()\n",
    "\n",
    "# Embedding layer\n",
    "# input_dim: vocab_size + 1\n",
    "# output_dim: the embed_size of output\n",
    "# input_length: seq_len\n",
    "model.add(Embedding(input_dim=n_words+1, output_dim=embed_size, input_length=seq_len))\n",
    "\n",
    "# the model will take as input an integer matrix of size (batch, input_length).\n",
    "# the largest integer (i.e. word index) in the input should be no larger than input_dim.\n",
    "# now model.output_shape == (None, input_length, output_dim), where None is the batch dimension."
   ]
  },
  {
   "cell_type": "code",
   "execution_count": null,
   "metadata": {
    "collapsed": true
   },
   "outputs": [],
   "source": [
    "## unit test, test embedding layer --------------------\n",
    "## (batch, input_length)\n",
    "#batch_size = 32\n",
    "#input_array = np.random.randint(n_words, size=(batch_size, seq_len))\n",
    "#\n",
    "#model.compile('rmsprop', 'mse')\n",
    "#output_array = model.predict(input_array)\n",
    "#print(output_array.shape)\n",
    "#assert output_array.shape == (batch_size, seq_len, embed_size)\n",
    "## unit test end --------------------"
   ]
  },
  {
   "cell_type": "code",
   "execution_count": 37,
   "metadata": {},
   "outputs": [
    {
     "name": "stderr",
     "output_type": "stream",
     "text": [
      "C:\\Develop\\Anaconda3\\envs\\py35\\lib\\site-packages\\ipykernel_launcher.py:21: UserWarning: The `input_dim` and `input_length` arguments in recurrent layers are deprecated. Use `input_shape` instead.\n",
      "C:\\Develop\\Anaconda3\\envs\\py35\\lib\\site-packages\\ipykernel_launcher.py:21: UserWarning: Update your `LSTM` call to the Keras 2 API: `LSTM(input_shape=(None, 300..., return_sequences=False, units=256)`\n",
      "C:\\Develop\\Anaconda3\\envs\\py35\\lib\\site-packages\\ipykernel_launcher.py:29: UserWarning: Update your `Dense` call to the Keras 2 API: `Dense(activation=\"sigmoid\", units=1)`\n"
     ]
    }
   ],
   "source": [
    "\n",
    "#model.add(LSTM(\n",
    "#    input_dim=embed_size,\n",
    "#    output_dim=lstm_size,\n",
    "#    return_sequences=True))\n",
    "model.add(LSTM(\n",
    "    input_dim=embed_size,\n",
    "    output_dim=lstm_size,\n",
    "    return_sequences=False))\n",
    "        \n",
    "#model.add(LSTM(\n",
    "#    lstm_size,\n",
    "#    return_sequences=False))\n",
    "model.add(Dropout(dropout_rate))\n",
    "\n",
    "#model.add(Dense(20))\n",
    "model.add(Dense(output_dim=1, activation='sigmoid'))\n",
    "\n",
    "#model.compile(loss='mse', optimizer='rmsprop', metrics=['accuracy'])\n",
    "#model.compile(loss='binary_crossentropy', optimizer='rmsprop', metrics=['accuracy'])\n",
    "#model.compile(loss='mse', optimizer='adam', metrics=['accuracy'])\n",
    "model.compile(loss='binary_crossentropy', optimizer='adam', metrics=['accuracy'])"
   ]
  },
  {
   "cell_type": "code",
   "execution_count": 38,
   "metadata": {},
   "outputs": [
    {
     "name": "stderr",
     "output_type": "stream",
     "text": [
      "C:\\Develop\\Anaconda3\\envs\\py35\\lib\\site-packages\\keras\\models.py:837: UserWarning: The `nb_epoch` argument in `fit` has been renamed `epochs`.\n",
      "  warnings.warn('The `nb_epoch` argument in `fit` '\n"
     ]
    },
    {
     "name": "stdout",
     "output_type": "stream",
     "text": [
      "Train on 20000 samples, validate on 2500 samples\n",
      "Epoch 1/3\n",
      "20000/20000 [==============================] - 43s - loss: 0.7218 - acc: 0.5787 - val_loss: 0.6731 - val_acc: 0.5888\n",
      "Epoch 2/3\n",
      "20000/20000 [==============================] - 39s - loss: 0.5662 - acc: 0.7220 - val_loss: 0.4716 - val_acc: 0.7852\n",
      "Epoch 3/3\n",
      "20000/20000 [==============================] - 39s - loss: 0.2557 - acc: 0.9000 - val_loss: 0.4888 - val_acc: 0.8048\n"
     ]
    }
   ],
   "source": [
    "# training\n",
    "history = model.fit(\n",
    "    train_x,\n",
    "    train_y,\n",
    "    batch_size=batch_size,\n",
    "    nb_epoch=epochs,\n",
    "    validation_data=(val_x, val_y))"
   ]
  },
  {
   "cell_type": "code",
   "execution_count": 39,
   "metadata": {},
   "outputs": [
    {
     "name": "stdout",
     "output_type": "stream",
     "text": [
      "dict_keys(['val_loss', 'loss', 'acc', 'val_acc'])\n"
     ]
    },
    {
     "data": {
      "image/png": "[encoded data removed]",
      "text/plain": [
       "<matplotlib.figure.Figure at 0x1c485929e10>"
      ]
     },
     "metadata": {},
     "output_type": "display_data"
    },
    {
     "data": {
      "image/png": "[encoded data removed]",
      "text/plain": [
       "<matplotlib.figure.Figure at 0x1c488c37e10>"
      ]
     },
     "metadata": {},
     "output_type": "display_data"
    },
    {
     "data": {
      "text/plain": [
       "<matplotlib.legend.Legend at 0x1c488edc160>"
      ]
     },
     "execution_count": 39,
     "metadata": {},
     "output_type": "execute_result"
    }
   ],
   "source": [
    "# summarize loss and accuracy\n",
    "\n",
    "# data in history\n",
    "print(history.history.keys())\n",
    "\n",
    "import matplotlib.pyplot as plt\n",
    "# summarize history for loss\n",
    "plt.figure()\n",
    "plt.plot(history.history['loss'])\n",
    "plt.plot(history.history['val_loss'])\n",
    "plt.title('model loss')\n",
    "plt.ylabel('loss')\n",
    "plt.xlabel('epoch')\n",
    "plt.legend(['train', 'valid'], loc='upper left')\n",
    "plt.show()\n",
    "\n",
    "# summarize history for accuracy\n",
    "plt.figure()\n",
    "plt.plot(history.history['acc'])\n",
    "plt.plot(history.history['val_acc'])\n",
    "plt.title('model accuracy')\n",
    "plt.ylabel('accuracy')\n",
    "plt.xlabel('epoch')\n",
    "plt.legend(['train', 'valid'], loc='upper left')"
   ]
  },
  {
   "cell_type": "code",
   "execution_count": 40,
   "metadata": {},
   "outputs": [
    {
     "name": "stdout",
     "output_type": "stream",
     "text": [
      "Accuracy: 81.32%\n"
     ]
    }
   ],
   "source": [
    "# evaluate on test data\n",
    "#pred_test = model.predict(test_x)\n",
    "scores = model.evaluate(test_x, test_y, verbose=0)\n",
    "print(\"Accuracy: %.2f%%\" % (scores[1]*100))"
   ]
  },
  {
   "cell_type": "code",
   "execution_count": null,
   "metadata": {
    "collapsed": true
   },
   "outputs": [],
   "source": []
  }
 ],
 "metadata": {
  "kernelspec": {
   "display_name": "Python 3",
   "language": "python",
   "name": "python3"
  },
  "language_info": {
   "codemirror_mode": {
    "name": "ipython",
    "version": 3
   },
   "file_extension": ".py",
   "mimetype": "text/x-python",
   "name": "python",
   "nbconvert_exporter": "python",
   "pygments_lexer": "ipython3",
   "version": "3.5.3"
  }
 },
 "nbformat": 4,
 "nbformat_minor": 2
}
